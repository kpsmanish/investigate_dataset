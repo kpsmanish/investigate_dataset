{
 "cells": [
  {
   "cell_type": "markdown",
   "metadata": {},
   "source": [
    "\n",
    "# Project: The Movie Database[TMDB] Data Analysis \n",
    "\n",
    "## Table of Contents\n",
    "<ul>\n",
    "<li><a href=\"#intro\">Introduction</a></li>\n",
    "<li><a href=\"#wrangling\">Data Wrangling</a></li>\n",
    "<li><a href=\"#eda\">Exploratory Data Analysis</a></li>\n",
    "<li><a href=\"#conclusions\">Conclusions</a></li>\n",
    "</ul>"
   ]
  },
  {
   "cell_type": "markdown",
   "metadata": {},
   "source": [
    "<a id='intro'></a>\n",
    "## Introduction\n",
    "\n",
    "> **The Movie Database[TMDB]**: .\n",
    "    I have choosen Movie DB to start my data analysis. This Movie sheet contains all the movies detils which was realeased from 1965 to 2015. It has 10866 rows and 21 columns are there. I have uploaded the sheet in Jupyter notebook by using upload option.\n",
    "    "
   ]
  },
  {
   "cell_type": "code",
   "execution_count": 57,
   "metadata": {},
   "outputs": [],
   "source": [
    "##-- The following packages are being imported for my data Analysis.\n",
    "import numpy as np\n",
    "import pandas as pd \n",
    "import matplotlib.pyplot as plt\n",
    "% matplotlib inline\n",
    "import seaborn as sns\n",
    "\n",
    "\n"
   ]
  },
  {
   "cell_type": "markdown",
   "metadata": {},
   "source": [
    "## Loading Data :\n",
    ">> I have selected TMDb movie data to anlysis it and Explore my Questions.\n",
    "   I am loading my TMDb movie data to start my analysis.\n",
    "   I have defined df_mv variable to store TMDb movie data into dataframe. \n",
    "   To perform to view the first sample 5 rows TMDb data."
   ]
  },
  {
   "cell_type": "code",
   "execution_count": 58,
   "metadata": {},
   "outputs": [
    {
     "data": {
      "text/html": [
       "<div>\n",
       "<style>\n",
       "    .dataframe thead tr:only-child th {\n",
       "        text-align: right;\n",
       "    }\n",
       "\n",
       "    .dataframe thead th {\n",
       "        text-align: left;\n",
       "    }\n",
       "\n",
       "    .dataframe tbody tr th {\n",
       "        vertical-align: top;\n",
       "    }\n",
       "</style>\n",
       "<table border=\"1\" class=\"dataframe\">\n",
       "  <thead>\n",
       "    <tr style=\"text-align: right;\">\n",
       "      <th></th>\n",
       "      <th>id</th>\n",
       "      <th>imdb_id</th>\n",
       "      <th>popularity</th>\n",
       "      <th>budget</th>\n",
       "      <th>revenue</th>\n",
       "      <th>original_title</th>\n",
       "      <th>cast</th>\n",
       "      <th>homepage</th>\n",
       "      <th>director</th>\n",
       "      <th>tagline</th>\n",
       "      <th>...</th>\n",
       "      <th>overview</th>\n",
       "      <th>runtime</th>\n",
       "      <th>genres</th>\n",
       "      <th>production_companies</th>\n",
       "      <th>release_date</th>\n",
       "      <th>vote_count</th>\n",
       "      <th>vote_average</th>\n",
       "      <th>release_year</th>\n",
       "      <th>budget_adj</th>\n",
       "      <th>revenue_adj</th>\n",
       "    </tr>\n",
       "  </thead>\n",
       "  <tbody>\n",
       "    <tr>\n",
       "      <th>0</th>\n",
       "      <td>135397</td>\n",
       "      <td>tt0369610</td>\n",
       "      <td>32.985763</td>\n",
       "      <td>150000000</td>\n",
       "      <td>1513528810</td>\n",
       "      <td>Jurassic World</td>\n",
       "      <td>Chris Pratt|Bryce Dallas Howard|Irrfan Khan|Vi...</td>\n",
       "      <td>http://www.jurassicworld.com/</td>\n",
       "      <td>Colin Trevorrow</td>\n",
       "      <td>The park is open.</td>\n",
       "      <td>...</td>\n",
       "      <td>Twenty-two years after the events of Jurassic ...</td>\n",
       "      <td>124</td>\n",
       "      <td>Action|Adventure|Science Fiction|Thriller</td>\n",
       "      <td>Universal Studios|Amblin Entertainment|Legenda...</td>\n",
       "      <td>6/9/15</td>\n",
       "      <td>5562</td>\n",
       "      <td>6.5</td>\n",
       "      <td>2015</td>\n",
       "      <td>1.379999e+08</td>\n",
       "      <td>1.392446e+09</td>\n",
       "    </tr>\n",
       "    <tr>\n",
       "      <th>1</th>\n",
       "      <td>76341</td>\n",
       "      <td>tt1392190</td>\n",
       "      <td>28.419936</td>\n",
       "      <td>150000000</td>\n",
       "      <td>378436354</td>\n",
       "      <td>Mad Max: Fury Road</td>\n",
       "      <td>Tom Hardy|Charlize Theron|Hugh Keays-Byrne|Nic...</td>\n",
       "      <td>http://www.madmaxmovie.com/</td>\n",
       "      <td>George Miller</td>\n",
       "      <td>What a Lovely Day.</td>\n",
       "      <td>...</td>\n",
       "      <td>An apocalyptic story set in the furthest reach...</td>\n",
       "      <td>120</td>\n",
       "      <td>Action|Adventure|Science Fiction|Thriller</td>\n",
       "      <td>Village Roadshow Pictures|Kennedy Miller Produ...</td>\n",
       "      <td>5/13/15</td>\n",
       "      <td>6185</td>\n",
       "      <td>7.1</td>\n",
       "      <td>2015</td>\n",
       "      <td>1.379999e+08</td>\n",
       "      <td>3.481613e+08</td>\n",
       "    </tr>\n",
       "    <tr>\n",
       "      <th>2</th>\n",
       "      <td>262500</td>\n",
       "      <td>tt2908446</td>\n",
       "      <td>13.112507</td>\n",
       "      <td>110000000</td>\n",
       "      <td>295238201</td>\n",
       "      <td>Insurgent</td>\n",
       "      <td>Shailene Woodley|Theo James|Kate Winslet|Ansel...</td>\n",
       "      <td>http://www.thedivergentseries.movie/#insurgent</td>\n",
       "      <td>Robert Schwentke</td>\n",
       "      <td>One Choice Can Destroy You</td>\n",
       "      <td>...</td>\n",
       "      <td>Beatrice Prior must confront her inner demons ...</td>\n",
       "      <td>119</td>\n",
       "      <td>Adventure|Science Fiction|Thriller</td>\n",
       "      <td>Summit Entertainment|Mandeville Films|Red Wago...</td>\n",
       "      <td>3/18/15</td>\n",
       "      <td>2480</td>\n",
       "      <td>6.3</td>\n",
       "      <td>2015</td>\n",
       "      <td>1.012000e+08</td>\n",
       "      <td>2.716190e+08</td>\n",
       "    </tr>\n",
       "    <tr>\n",
       "      <th>3</th>\n",
       "      <td>140607</td>\n",
       "      <td>tt2488496</td>\n",
       "      <td>11.173104</td>\n",
       "      <td>200000000</td>\n",
       "      <td>2068178225</td>\n",
       "      <td>Star Wars: The Force Awakens</td>\n",
       "      <td>Harrison Ford|Mark Hamill|Carrie Fisher|Adam D...</td>\n",
       "      <td>http://www.starwars.com/films/star-wars-episod...</td>\n",
       "      <td>J.J. Abrams</td>\n",
       "      <td>Every generation has a story.</td>\n",
       "      <td>...</td>\n",
       "      <td>Thirty years after defeating the Galactic Empi...</td>\n",
       "      <td>136</td>\n",
       "      <td>Action|Adventure|Science Fiction|Fantasy</td>\n",
       "      <td>Lucasfilm|Truenorth Productions|Bad Robot</td>\n",
       "      <td>12/15/15</td>\n",
       "      <td>5292</td>\n",
       "      <td>7.5</td>\n",
       "      <td>2015</td>\n",
       "      <td>1.839999e+08</td>\n",
       "      <td>1.902723e+09</td>\n",
       "    </tr>\n",
       "    <tr>\n",
       "      <th>4</th>\n",
       "      <td>168259</td>\n",
       "      <td>tt2820852</td>\n",
       "      <td>9.335014</td>\n",
       "      <td>190000000</td>\n",
       "      <td>1506249360</td>\n",
       "      <td>Furious 7</td>\n",
       "      <td>Vin Diesel|Paul Walker|Jason Statham|Michelle ...</td>\n",
       "      <td>http://www.furious7.com/</td>\n",
       "      <td>James Wan</td>\n",
       "      <td>Vengeance Hits Home</td>\n",
       "      <td>...</td>\n",
       "      <td>Deckard Shaw seeks revenge against Dominic Tor...</td>\n",
       "      <td>137</td>\n",
       "      <td>Action|Crime|Thriller</td>\n",
       "      <td>Universal Pictures|Original Film|Media Rights ...</td>\n",
       "      <td>4/1/15</td>\n",
       "      <td>2947</td>\n",
       "      <td>7.3</td>\n",
       "      <td>2015</td>\n",
       "      <td>1.747999e+08</td>\n",
       "      <td>1.385749e+09</td>\n",
       "    </tr>\n",
       "  </tbody>\n",
       "</table>\n",
       "<p>5 rows × 21 columns</p>\n",
       "</div>"
      ],
      "text/plain": [
       "       id    imdb_id  popularity     budget     revenue  \\\n",
       "0  135397  tt0369610   32.985763  150000000  1513528810   \n",
       "1   76341  tt1392190   28.419936  150000000   378436354   \n",
       "2  262500  tt2908446   13.112507  110000000   295238201   \n",
       "3  140607  tt2488496   11.173104  200000000  2068178225   \n",
       "4  168259  tt2820852    9.335014  190000000  1506249360   \n",
       "\n",
       "                 original_title  \\\n",
       "0                Jurassic World   \n",
       "1            Mad Max: Fury Road   \n",
       "2                     Insurgent   \n",
       "3  Star Wars: The Force Awakens   \n",
       "4                     Furious 7   \n",
       "\n",
       "                                                cast  \\\n",
       "0  Chris Pratt|Bryce Dallas Howard|Irrfan Khan|Vi...   \n",
       "1  Tom Hardy|Charlize Theron|Hugh Keays-Byrne|Nic...   \n",
       "2  Shailene Woodley|Theo James|Kate Winslet|Ansel...   \n",
       "3  Harrison Ford|Mark Hamill|Carrie Fisher|Adam D...   \n",
       "4  Vin Diesel|Paul Walker|Jason Statham|Michelle ...   \n",
       "\n",
       "                                            homepage          director  \\\n",
       "0                      http://www.jurassicworld.com/   Colin Trevorrow   \n",
       "1                        http://www.madmaxmovie.com/     George Miller   \n",
       "2     http://www.thedivergentseries.movie/#insurgent  Robert Schwentke   \n",
       "3  http://www.starwars.com/films/star-wars-episod...       J.J. Abrams   \n",
       "4                           http://www.furious7.com/         James Wan   \n",
       "\n",
       "                         tagline      ...       \\\n",
       "0              The park is open.      ...        \n",
       "1             What a Lovely Day.      ...        \n",
       "2     One Choice Can Destroy You      ...        \n",
       "3  Every generation has a story.      ...        \n",
       "4            Vengeance Hits Home      ...        \n",
       "\n",
       "                                            overview runtime  \\\n",
       "0  Twenty-two years after the events of Jurassic ...     124   \n",
       "1  An apocalyptic story set in the furthest reach...     120   \n",
       "2  Beatrice Prior must confront her inner demons ...     119   \n",
       "3  Thirty years after defeating the Galactic Empi...     136   \n",
       "4  Deckard Shaw seeks revenge against Dominic Tor...     137   \n",
       "\n",
       "                                      genres  \\\n",
       "0  Action|Adventure|Science Fiction|Thriller   \n",
       "1  Action|Adventure|Science Fiction|Thriller   \n",
       "2         Adventure|Science Fiction|Thriller   \n",
       "3   Action|Adventure|Science Fiction|Fantasy   \n",
       "4                      Action|Crime|Thriller   \n",
       "\n",
       "                                production_companies release_date vote_count  \\\n",
       "0  Universal Studios|Amblin Entertainment|Legenda...       6/9/15       5562   \n",
       "1  Village Roadshow Pictures|Kennedy Miller Produ...      5/13/15       6185   \n",
       "2  Summit Entertainment|Mandeville Films|Red Wago...      3/18/15       2480   \n",
       "3          Lucasfilm|Truenorth Productions|Bad Robot     12/15/15       5292   \n",
       "4  Universal Pictures|Original Film|Media Rights ...       4/1/15       2947   \n",
       "\n",
       "   vote_average  release_year    budget_adj   revenue_adj  \n",
       "0           6.5          2015  1.379999e+08  1.392446e+09  \n",
       "1           7.1          2015  1.379999e+08  3.481613e+08  \n",
       "2           6.3          2015  1.012000e+08  2.716190e+08  \n",
       "3           7.5          2015  1.839999e+08  1.902723e+09  \n",
       "4           7.3          2015  1.747999e+08  1.385749e+09  \n",
       "\n",
       "[5 rows x 21 columns]"
      ]
     },
     "execution_count": 58,
     "metadata": {},
     "output_type": "execute_result"
    }
   ],
   "source": [
    "\n",
    "df_mv =pd.read_csv(\"tmdb-movies.csv\")\n",
    "df_mv.head()\n"
   ]
  },
  {
   "cell_type": "markdown",
   "metadata": {},
   "source": [
    "<a id='wrangling'></a>\n",
    "## TMDB Movie Data Wrangling Steps\n",
    "\n",
    "> **Data Wrangling**: i have loaded my TMDB data and i will start doing my data cleaning process one by one as instructed as below.\n",
    "1) Removing Unwanted columns which is really not required on my data analysis\n",
    "2) To clean the Null values rows from the dataset.\n",
    "3) To remove the duplication from the dataset.\n",
    "4) To fix the data values as meaningful.\n",
    "5) To fix the datatype if it is not relevent datatype in dataset.\n",
    "6) To remame the column which is not relevent in Dataset. \n"
   ]
  },
  {
   "cell_type": "code",
   "execution_count": 59,
   "metadata": {},
   "outputs": [
    {
     "data": {
      "text/plain": [
       "(10866, 21)"
      ]
     },
     "execution_count": 59,
     "metadata": {},
     "output_type": "execute_result"
    }
   ],
   "source": [
    "## -- To check my TMDB filesrows counts & column counts.\n",
    "## Row count -10866 and column count -21\n",
    "df_mv.shape"
   ]
  },
  {
   "cell_type": "code",
   "execution_count": 60,
   "metadata": {},
   "outputs": [
    {
     "data": {
      "text/html": [
       "<div>\n",
       "<style>\n",
       "    .dataframe thead tr:only-child th {\n",
       "        text-align: right;\n",
       "    }\n",
       "\n",
       "    .dataframe thead th {\n",
       "        text-align: left;\n",
       "    }\n",
       "\n",
       "    .dataframe tbody tr th {\n",
       "        vertical-align: top;\n",
       "    }\n",
       "</style>\n",
       "<table border=\"1\" class=\"dataframe\">\n",
       "  <thead>\n",
       "    <tr style=\"text-align: right;\">\n",
       "      <th></th>\n",
       "      <th>id</th>\n",
       "      <th>popularity</th>\n",
       "      <th>budget</th>\n",
       "      <th>revenue</th>\n",
       "      <th>runtime</th>\n",
       "      <th>vote_count</th>\n",
       "      <th>vote_average</th>\n",
       "      <th>release_year</th>\n",
       "      <th>budget_adj</th>\n",
       "      <th>revenue_adj</th>\n",
       "    </tr>\n",
       "  </thead>\n",
       "  <tbody>\n",
       "    <tr>\n",
       "      <th>count</th>\n",
       "      <td>10866.000000</td>\n",
       "      <td>10866.000000</td>\n",
       "      <td>1.086600e+04</td>\n",
       "      <td>1.086600e+04</td>\n",
       "      <td>10866.000000</td>\n",
       "      <td>10866.000000</td>\n",
       "      <td>10866.000000</td>\n",
       "      <td>10866.000000</td>\n",
       "      <td>1.086600e+04</td>\n",
       "      <td>1.086600e+04</td>\n",
       "    </tr>\n",
       "    <tr>\n",
       "      <th>mean</th>\n",
       "      <td>66064.177434</td>\n",
       "      <td>0.646441</td>\n",
       "      <td>1.462570e+07</td>\n",
       "      <td>3.982332e+07</td>\n",
       "      <td>102.070863</td>\n",
       "      <td>217.389748</td>\n",
       "      <td>5.974922</td>\n",
       "      <td>2001.322658</td>\n",
       "      <td>1.755104e+07</td>\n",
       "      <td>5.136436e+07</td>\n",
       "    </tr>\n",
       "    <tr>\n",
       "      <th>std</th>\n",
       "      <td>92130.136561</td>\n",
       "      <td>1.000185</td>\n",
       "      <td>3.091321e+07</td>\n",
       "      <td>1.170035e+08</td>\n",
       "      <td>31.381405</td>\n",
       "      <td>575.619058</td>\n",
       "      <td>0.935142</td>\n",
       "      <td>12.812941</td>\n",
       "      <td>3.430616e+07</td>\n",
       "      <td>1.446325e+08</td>\n",
       "    </tr>\n",
       "    <tr>\n",
       "      <th>min</th>\n",
       "      <td>5.000000</td>\n",
       "      <td>0.000065</td>\n",
       "      <td>0.000000e+00</td>\n",
       "      <td>0.000000e+00</td>\n",
       "      <td>0.000000</td>\n",
       "      <td>10.000000</td>\n",
       "      <td>1.500000</td>\n",
       "      <td>1960.000000</td>\n",
       "      <td>0.000000e+00</td>\n",
       "      <td>0.000000e+00</td>\n",
       "    </tr>\n",
       "    <tr>\n",
       "      <th>25%</th>\n",
       "      <td>10596.250000</td>\n",
       "      <td>0.207583</td>\n",
       "      <td>0.000000e+00</td>\n",
       "      <td>0.000000e+00</td>\n",
       "      <td>90.000000</td>\n",
       "      <td>17.000000</td>\n",
       "      <td>5.400000</td>\n",
       "      <td>1995.000000</td>\n",
       "      <td>0.000000e+00</td>\n",
       "      <td>0.000000e+00</td>\n",
       "    </tr>\n",
       "    <tr>\n",
       "      <th>50%</th>\n",
       "      <td>20669.000000</td>\n",
       "      <td>0.383856</td>\n",
       "      <td>0.000000e+00</td>\n",
       "      <td>0.000000e+00</td>\n",
       "      <td>99.000000</td>\n",
       "      <td>38.000000</td>\n",
       "      <td>6.000000</td>\n",
       "      <td>2006.000000</td>\n",
       "      <td>0.000000e+00</td>\n",
       "      <td>0.000000e+00</td>\n",
       "    </tr>\n",
       "    <tr>\n",
       "      <th>75%</th>\n",
       "      <td>75610.000000</td>\n",
       "      <td>0.713817</td>\n",
       "      <td>1.500000e+07</td>\n",
       "      <td>2.400000e+07</td>\n",
       "      <td>111.000000</td>\n",
       "      <td>145.750000</td>\n",
       "      <td>6.600000</td>\n",
       "      <td>2011.000000</td>\n",
       "      <td>2.085325e+07</td>\n",
       "      <td>3.369710e+07</td>\n",
       "    </tr>\n",
       "    <tr>\n",
       "      <th>max</th>\n",
       "      <td>417859.000000</td>\n",
       "      <td>32.985763</td>\n",
       "      <td>4.250000e+08</td>\n",
       "      <td>2.781506e+09</td>\n",
       "      <td>900.000000</td>\n",
       "      <td>9767.000000</td>\n",
       "      <td>9.200000</td>\n",
       "      <td>2015.000000</td>\n",
       "      <td>4.250000e+08</td>\n",
       "      <td>2.827124e+09</td>\n",
       "    </tr>\n",
       "  </tbody>\n",
       "</table>\n",
       "</div>"
      ],
      "text/plain": [
       "                  id    popularity        budget       revenue       runtime  \\\n",
       "count   10866.000000  10866.000000  1.086600e+04  1.086600e+04  10866.000000   \n",
       "mean    66064.177434      0.646441  1.462570e+07  3.982332e+07    102.070863   \n",
       "std     92130.136561      1.000185  3.091321e+07  1.170035e+08     31.381405   \n",
       "min         5.000000      0.000065  0.000000e+00  0.000000e+00      0.000000   \n",
       "25%     10596.250000      0.207583  0.000000e+00  0.000000e+00     90.000000   \n",
       "50%     20669.000000      0.383856  0.000000e+00  0.000000e+00     99.000000   \n",
       "75%     75610.000000      0.713817  1.500000e+07  2.400000e+07    111.000000   \n",
       "max    417859.000000     32.985763  4.250000e+08  2.781506e+09    900.000000   \n",
       "\n",
       "         vote_count  vote_average  release_year    budget_adj   revenue_adj  \n",
       "count  10866.000000  10866.000000  10866.000000  1.086600e+04  1.086600e+04  \n",
       "mean     217.389748      5.974922   2001.322658  1.755104e+07  5.136436e+07  \n",
       "std      575.619058      0.935142     12.812941  3.430616e+07  1.446325e+08  \n",
       "min       10.000000      1.500000   1960.000000  0.000000e+00  0.000000e+00  \n",
       "25%       17.000000      5.400000   1995.000000  0.000000e+00  0.000000e+00  \n",
       "50%       38.000000      6.000000   2006.000000  0.000000e+00  0.000000e+00  \n",
       "75%      145.750000      6.600000   2011.000000  2.085325e+07  3.369710e+07  \n",
       "max     9767.000000      9.200000   2015.000000  4.250000e+08  2.827124e+09  "
      ]
     },
     "execution_count": 60,
     "metadata": {},
     "output_type": "execute_result"
    }
   ],
   "source": [
    "## -- To find the statistics of my TMDB movie data.\n",
    "df_mv.describe()"
   ]
  },
  {
   "cell_type": "code",
   "execution_count": 61,
   "metadata": {},
   "outputs": [
    {
     "name": "stdout",
     "output_type": "stream",
     "text": [
      "<class 'pandas.core.frame.DataFrame'>\n",
      "RangeIndex: 10866 entries, 0 to 10865\n",
      "Data columns (total 21 columns):\n",
      "id                      10866 non-null int64\n",
      "imdb_id                 10856 non-null object\n",
      "popularity              10866 non-null float64\n",
      "budget                  10866 non-null int64\n",
      "revenue                 10866 non-null int64\n",
      "original_title          10866 non-null object\n",
      "cast                    10790 non-null object\n",
      "homepage                2936 non-null object\n",
      "director                10822 non-null object\n",
      "tagline                 8042 non-null object\n",
      "keywords                9373 non-null object\n",
      "overview                10862 non-null object\n",
      "runtime                 10866 non-null int64\n",
      "genres                  10843 non-null object\n",
      "production_companies    9836 non-null object\n",
      "release_date            10866 non-null object\n",
      "vote_count              10866 non-null int64\n",
      "vote_average            10866 non-null float64\n",
      "release_year            10866 non-null int64\n",
      "budget_adj              10866 non-null float64\n",
      "revenue_adj             10866 non-null float64\n",
      "dtypes: float64(4), int64(6), object(11)\n",
      "memory usage: 1.7+ MB\n"
     ]
    }
   ],
   "source": [
    "## -- structure of the data \n",
    "##-- To find that each column datatype and row counts of my TMDB movie data.\n",
    "df_mv.info()"
   ]
  },
  {
   "cell_type": "markdown",
   "metadata": {},
   "source": [
    "## To begin with Data Cleaning Steps\n",
    ">>\n",
    "#Step :-1\n",
    "##########\n",
    "#The following columns are not going to use on my data analysis .Hence i have removed this column from my dataframe.\n",
    "#id\n",
    "#imdbid\n",
    "#homepage\n",
    "#overview\n",
    "#tagline"
   ]
  },
  {
   "cell_type": "code",
   "execution_count": 62,
   "metadata": {},
   "outputs": [
    {
     "name": "stdout",
     "output_type": "stream",
     "text": [
      "<class 'pandas.core.frame.DataFrame'>\n",
      "RangeIndex: 10866 entries, 0 to 10865\n",
      "Data columns (total 16 columns):\n",
      "popularity              10866 non-null float64\n",
      "budget                  10866 non-null int64\n",
      "revenue                 10866 non-null int64\n",
      "original_title          10866 non-null object\n",
      "cast                    10790 non-null object\n",
      "director                10822 non-null object\n",
      "keywords                9373 non-null object\n",
      "runtime                 10866 non-null int64\n",
      "genres                  10843 non-null object\n",
      "production_companies    9836 non-null object\n",
      "release_date            10866 non-null object\n",
      "vote_count              10866 non-null int64\n",
      "vote_average            10866 non-null float64\n",
      "release_year            10866 non-null int64\n",
      "budget_adj              10866 non-null float64\n",
      "revenue_adj             10866 non-null float64\n",
      "dtypes: float64(4), int64(5), object(7)\n",
      "memory usage: 1.3+ MB\n"
     ]
    }
   ],
   "source": [
    "\n",
    "\n",
    "df_mv.drop(['id', 'imdb_id', 'homepage', 'overview','tagline'], axis=1, inplace=True)\n",
    "df_mv.info()\n",
    "\n",
    "\n"
   ]
  },
  {
   "cell_type": "code",
   "execution_count": 63,
   "metadata": {},
   "outputs": [
    {
     "data": {
      "text/plain": [
       "True"
      ]
     },
     "execution_count": 63,
     "metadata": {},
     "output_type": "execute_result"
    }
   ],
   "source": [
    "#Step :-2\n",
    "##########\n",
    "# To do checks if any of columns have null values \n",
    "## returning true which means that have an null values into my data frame.\n",
    "df_mv.isnull().sum().any()\n"
   ]
  },
  {
   "cell_type": "markdown",
   "metadata": {},
   "source": [
    "## Communication :\n",
    ">>   The step 2 results shows me that there are null values is there in my dataframe.\n",
    "     Now I have two Questiion here\n",
    "  ##     1) is that entire row is having NULL values ?\n",
    "  ##    2) Is that specific column only has NULL values ?\n",
    "  \n",
    "  ## Analysis decision :\n",
    ">>   I have decided to create a BAR chart to find my answers of this abvoe Qustions"
   ]
  },
  {
   "cell_type": "code",
   "execution_count": 64,
   "metadata": {},
   "outputs": [
    {
     "data": {
      "text/plain": [
       "<matplotlib.legend.Legend at 0x7f6604d63240>"
      ]
     },
     "execution_count": 64,
     "metadata": {},
     "output_type": "execute_result"
    },
    {
     "data": {
      "image/png": "[encoded data removed]",
      "text/plain": [
       "<matplotlib.figure.Figure at 0x7f6604d634a8>"
      ]
     },
     "metadata": {
      "needs_background": "light"
     },
     "output_type": "display_data"
    }
   ],
   "source": [
    "#Step :-2.1\n",
    "##########\n",
    "# Let me visulaized the null values to find which columns shows null values \n",
    "df_mv.isnull().sum().plot(kind='bar',grid=True,label ='Null values Count')\n",
    "plt.legend()\n"
   ]
  },
  {
   "cell_type": "markdown",
   "metadata": {},
   "source": [
    "## Results Communication :\n",
    ">>   The Bar chart Helps me get a clear view of NULL values count and find my answers as below\n",
    "     Now I have two Questiion here\n",
    "      1) is that entire row is having NULL values ?\n",
    "      Ans :- NO\n",
    "      2) Is that specific column only has NUL values ?\n",
    "      Ans : YES , cast, director,keywords,production_complanies columns only has NULL values.\n"
   ]
  },
  {
   "cell_type": "code",
   "execution_count": 65,
   "metadata": {},
   "outputs": [
    {
     "name": "stdout",
     "output_type": "stream",
     "text": [
      "<class 'pandas.core.frame.DataFrame'>\n",
      "Int64Index: 8667 entries, 0 to 10865\n",
      "Data columns (total 16 columns):\n",
      "popularity              8667 non-null float64\n",
      "budget                  8667 non-null int64\n",
      "revenue                 8667 non-null int64\n",
      "original_title          8667 non-null object\n",
      "cast                    8667 non-null object\n",
      "director                8667 non-null object\n",
      "keywords                8667 non-null object\n",
      "runtime                 8667 non-null int64\n",
      "genres                  8667 non-null object\n",
      "production_companies    8667 non-null object\n",
      "release_date            8667 non-null object\n",
      "vote_count              8667 non-null int64\n",
      "vote_average            8667 non-null float64\n",
      "release_year            8667 non-null int64\n",
      "budget_adj              8667 non-null float64\n",
      "revenue_adj             8667 non-null float64\n",
      "dtypes: float64(4), int64(5), object(7)\n",
      "memory usage: 1.1+ MB\n"
     ]
    }
   ],
   "source": [
    "#Step :-3\n",
    "##########\n",
    "# I am going to drop NULL rows from my data frame. \n",
    "df_mv.dropna(axis=0,inplace=True)\n",
    "df_mv.info()"
   ]
  },
  {
   "cell_type": "code",
   "execution_count": 66,
   "metadata": {},
   "outputs": [
    {
     "data": {
      "text/plain": [
       "False"
      ]
     },
     "execution_count": 66,
     "metadata": {},
     "output_type": "execute_result"
    }
   ],
   "source": [
    "#Step :-4\n",
    "##########\n",
    "#To perform the checks again if any of columns have null values -Return should be false \n",
    "df_mv.isnull().sum().any()"
   ]
  },
  {
   "cell_type": "code",
   "execution_count": 67,
   "metadata": {},
   "outputs": [
    {
     "data": {
      "text/plain": [
       "1"
      ]
     },
     "execution_count": 67,
     "metadata": {},
     "output_type": "execute_result"
    }
   ],
   "source": [
    "#Step :-5\n",
    "##########\n",
    "# To Validate if any duplicate rows into my dataframe \n",
    "df_mv.duplicated().sum()"
   ]
  },
  {
   "cell_type": "code",
   "execution_count": 68,
   "metadata": {},
   "outputs": [
    {
     "data": {
      "text/plain": [
       "0"
      ]
     },
     "execution_count": 68,
     "metadata": {},
     "output_type": "execute_result"
    }
   ],
   "source": [
    "#Step :-6\n",
    "##########\n",
    "##To remove the duplication by using the following function.\n",
    "df_mv.drop_duplicates(inplace=True)\n",
    "df_mv.duplicated().sum()"
   ]
  },
  {
   "cell_type": "code",
   "execution_count": 69,
   "metadata": {},
   "outputs": [
    {
     "name": "stdout",
     "output_type": "stream",
     "text": [
      "<class 'pandas.core.frame.DataFrame'>\n",
      "Int64Index: 8666 entries, 0 to 10865\n",
      "Data columns (total 16 columns):\n",
      "popularity              8666 non-null float64\n",
      "budget                  8666 non-null int64\n",
      "revenue                 8666 non-null int64\n",
      "original_title          8666 non-null object\n",
      "cast                    8666 non-null object\n",
      "director                8666 non-null object\n",
      "properties              8666 non-null object\n",
      "runtime                 8666 non-null int64\n",
      "genres                  8666 non-null object\n",
      "production_companies    8666 non-null object\n",
      "release_date            8666 non-null object\n",
      "vote_count              8666 non-null int64\n",
      "vote_average            8666 non-null float64\n",
      "release_year            8666 non-null int64\n",
      "budget_adj              8666 non-null float64\n",
      "revenue_adj             8666 non-null float64\n",
      "dtypes: float64(4), int64(5), object(7)\n",
      "memory usage: 1.1+ MB\n"
     ]
    }
   ],
   "source": [
    "#Step :-7 - Column Renaming \n",
    "#########\n",
    "## keyword column is not much meaningful to understand the columns data ,Hence i have changed as \"properties\".\n",
    "df_mv.rename(columns={'keywords':'properties'}, inplace=True)\n",
    "df_mv.info()"
   ]
  },
  {
   "cell_type": "markdown",
   "metadata": {},
   "source": [
    "## Communication :\n",
    ">> Fixing the data values  \n",
    "##########################\n",
    "The genres, properties,cast,columns,production_companies are separated by pipe (|) characters .\n",
    "\n",
    "## Analysis decision:\n",
    ">> So i have replaced with space characters for genres and Properties and cast.\n",
    "    I have append with \"and\" for production_companies columns .Because we can understand and read it easly."
   ]
  },
  {
   "cell_type": "code",
   "execution_count": 70,
   "metadata": {},
   "outputs": [
    {
     "data": {
      "text/html": [
       "<div>\n",
       "<style>\n",
       "    .dataframe thead tr:only-child th {\n",
       "        text-align: right;\n",
       "    }\n",
       "\n",
       "    .dataframe thead th {\n",
       "        text-align: left;\n",
       "    }\n",
       "\n",
       "    .dataframe tbody tr th {\n",
       "        vertical-align: top;\n",
       "    }\n",
       "</style>\n",
       "<table border=\"1\" class=\"dataframe\">\n",
       "  <thead>\n",
       "    <tr style=\"text-align: right;\">\n",
       "      <th></th>\n",
       "      <th>popularity</th>\n",
       "      <th>budget</th>\n",
       "      <th>revenue</th>\n",
       "      <th>original_title</th>\n",
       "      <th>cast</th>\n",
       "      <th>director</th>\n",
       "      <th>properties</th>\n",
       "      <th>runtime</th>\n",
       "      <th>genres</th>\n",
       "      <th>production_companies</th>\n",
       "      <th>release_date</th>\n",
       "      <th>vote_count</th>\n",
       "      <th>vote_average</th>\n",
       "      <th>release_year</th>\n",
       "      <th>budget_adj</th>\n",
       "      <th>revenue_adj</th>\n",
       "    </tr>\n",
       "  </thead>\n",
       "  <tbody>\n",
       "    <tr>\n",
       "      <th>0</th>\n",
       "      <td>32.985763</td>\n",
       "      <td>150000000</td>\n",
       "      <td>1513528810</td>\n",
       "      <td>Jurassic World</td>\n",
       "      <td>Chris Pratt and Bryce Dallas Howard and Irrfan...</td>\n",
       "      <td>Colin Trevorrow</td>\n",
       "      <td>monster dna tyrannosaurus rex velociraptor island</td>\n",
       "      <td>124</td>\n",
       "      <td>Action Adventure Science Fiction Thriller</td>\n",
       "      <td>Universal Studios and Amblin Entertainment and...</td>\n",
       "      <td>6/9/15</td>\n",
       "      <td>5562</td>\n",
       "      <td>6.5</td>\n",
       "      <td>2015</td>\n",
       "      <td>1.379999e+08</td>\n",
       "      <td>1.392446e+09</td>\n",
       "    </tr>\n",
       "    <tr>\n",
       "      <th>1</th>\n",
       "      <td>28.419936</td>\n",
       "      <td>150000000</td>\n",
       "      <td>378436354</td>\n",
       "      <td>Mad Max: Fury Road</td>\n",
       "      <td>Tom Hardy and Charlize Theron and Hugh Keays-B...</td>\n",
       "      <td>George Miller</td>\n",
       "      <td>future chase post-apocalyptic dystopia australia</td>\n",
       "      <td>120</td>\n",
       "      <td>Action Adventure Science Fiction Thriller</td>\n",
       "      <td>Village Roadshow Pictures and Kennedy Miller P...</td>\n",
       "      <td>5/13/15</td>\n",
       "      <td>6185</td>\n",
       "      <td>7.1</td>\n",
       "      <td>2015</td>\n",
       "      <td>1.379999e+08</td>\n",
       "      <td>3.481613e+08</td>\n",
       "    </tr>\n",
       "    <tr>\n",
       "      <th>2</th>\n",
       "      <td>13.112507</td>\n",
       "      <td>110000000</td>\n",
       "      <td>295238201</td>\n",
       "      <td>Insurgent</td>\n",
       "      <td>Shailene Woodley and Theo James and Kate Winsl...</td>\n",
       "      <td>Robert Schwentke</td>\n",
       "      <td>based on novel revolution dystopia sequel dyst...</td>\n",
       "      <td>119</td>\n",
       "      <td>Adventure Science Fiction Thriller</td>\n",
       "      <td>Summit Entertainment and Mandeville Films and ...</td>\n",
       "      <td>3/18/15</td>\n",
       "      <td>2480</td>\n",
       "      <td>6.3</td>\n",
       "      <td>2015</td>\n",
       "      <td>1.012000e+08</td>\n",
       "      <td>2.716190e+08</td>\n",
       "    </tr>\n",
       "    <tr>\n",
       "      <th>3</th>\n",
       "      <td>11.173104</td>\n",
       "      <td>200000000</td>\n",
       "      <td>2068178225</td>\n",
       "      <td>Star Wars: The Force Awakens</td>\n",
       "      <td>Harrison Ford and Mark Hamill and Carrie Fishe...</td>\n",
       "      <td>J.J. Abrams</td>\n",
       "      <td>android spaceship jedi space opera 3d</td>\n",
       "      <td>136</td>\n",
       "      <td>Action Adventure Science Fiction Fantasy</td>\n",
       "      <td>Lucasfilm and Truenorth Productions and Bad Robot</td>\n",
       "      <td>12/15/15</td>\n",
       "      <td>5292</td>\n",
       "      <td>7.5</td>\n",
       "      <td>2015</td>\n",
       "      <td>1.839999e+08</td>\n",
       "      <td>1.902723e+09</td>\n",
       "    </tr>\n",
       "    <tr>\n",
       "      <th>4</th>\n",
       "      <td>9.335014</td>\n",
       "      <td>190000000</td>\n",
       "      <td>1506249360</td>\n",
       "      <td>Furious 7</td>\n",
       "      <td>Vin Diesel and Paul Walker and Jason Statham a...</td>\n",
       "      <td>James Wan</td>\n",
       "      <td>car race speed revenge suspense car</td>\n",
       "      <td>137</td>\n",
       "      <td>Action Crime Thriller</td>\n",
       "      <td>Universal Pictures and Original Film and Media...</td>\n",
       "      <td>4/1/15</td>\n",
       "      <td>2947</td>\n",
       "      <td>7.3</td>\n",
       "      <td>2015</td>\n",
       "      <td>1.747999e+08</td>\n",
       "      <td>1.385749e+09</td>\n",
       "    </tr>\n",
       "  </tbody>\n",
       "</table>\n",
       "</div>"
      ],
      "text/plain": [
       "   popularity     budget     revenue                original_title  \\\n",
       "0   32.985763  150000000  1513528810                Jurassic World   \n",
       "1   28.419936  150000000   378436354            Mad Max: Fury Road   \n",
       "2   13.112507  110000000   295238201                     Insurgent   \n",
       "3   11.173104  200000000  2068178225  Star Wars: The Force Awakens   \n",
       "4    9.335014  190000000  1506249360                     Furious 7   \n",
       "\n",
       "                                                cast          director  \\\n",
       "0  Chris Pratt and Bryce Dallas Howard and Irrfan...   Colin Trevorrow   \n",
       "1  Tom Hardy and Charlize Theron and Hugh Keays-B...     George Miller   \n",
       "2  Shailene Woodley and Theo James and Kate Winsl...  Robert Schwentke   \n",
       "3  Harrison Ford and Mark Hamill and Carrie Fishe...       J.J. Abrams   \n",
       "4  Vin Diesel and Paul Walker and Jason Statham a...         James Wan   \n",
       "\n",
       "                                          properties  runtime  \\\n",
       "0  monster dna tyrannosaurus rex velociraptor island      124   \n",
       "1   future chase post-apocalyptic dystopia australia      120   \n",
       "2  based on novel revolution dystopia sequel dyst...      119   \n",
       "3              android spaceship jedi space opera 3d      136   \n",
       "4                car race speed revenge suspense car      137   \n",
       "\n",
       "                                      genres  \\\n",
       "0  Action Adventure Science Fiction Thriller   \n",
       "1  Action Adventure Science Fiction Thriller   \n",
       "2         Adventure Science Fiction Thriller   \n",
       "3   Action Adventure Science Fiction Fantasy   \n",
       "4                      Action Crime Thriller   \n",
       "\n",
       "                                production_companies release_date  vote_count  \\\n",
       "0  Universal Studios and Amblin Entertainment and...       6/9/15        5562   \n",
       "1  Village Roadshow Pictures and Kennedy Miller P...      5/13/15        6185   \n",
       "2  Summit Entertainment and Mandeville Films and ...      3/18/15        2480   \n",
       "3  Lucasfilm and Truenorth Productions and Bad Robot     12/15/15        5292   \n",
       "4  Universal Pictures and Original Film and Media...       4/1/15        2947   \n",
       "\n",
       "   vote_average  release_year    budget_adj   revenue_adj  \n",
       "0           6.5          2015  1.379999e+08  1.392446e+09  \n",
       "1           7.1          2015  1.379999e+08  3.481613e+08  \n",
       "2           6.3          2015  1.012000e+08  2.716190e+08  \n",
       "3           7.5          2015  1.839999e+08  1.902723e+09  \n",
       "4           7.3          2015  1.747999e+08  1.385749e+09  "
      ]
     },
     "execution_count": 70,
     "metadata": {},
     "output_type": "execute_result"
    }
   ],
   "source": [
    "#Step :-8 -\n",
    "#=========\n",
    "df_mv['genres']=df_mv['genres'].str.replace(\"|\",\" \")\n",
    "df_mv['properties']=df_mv['properties'].str.replace(\"|\",\" \")\n",
    "df_mv['cast']=df_mv['cast'].str.replace(\"|\",\" and \")\n",
    "df_mv['production_companies']=df_mv['production_companies'].str.replace(\"|\",\" and \")\n",
    "df_mv.head()"
   ]
  },
  {
   "cell_type": "code",
   "execution_count": 71,
   "metadata": {},
   "outputs": [
    {
     "name": "stdout",
     "output_type": "stream",
     "text": [
      "<class 'pandas.core.frame.DataFrame'>\n",
      "Int64Index: 8666 entries, 0 to 10865\n",
      "Data columns (total 16 columns):\n",
      "popularity              8666 non-null float64\n",
      "budget                  8666 non-null int64\n",
      "revenue                 8666 non-null int64\n",
      "original_title          8666 non-null object\n",
      "cast                    8666 non-null object\n",
      "director                8666 non-null object\n",
      "properties              8666 non-null object\n",
      "runtime                 8666 non-null int64\n",
      "genres                  8666 non-null object\n",
      "production_companies    8666 non-null object\n",
      "release_date            8666 non-null datetime64[ns]\n",
      "vote_count              8666 non-null int64\n",
      "vote_average            8666 non-null float64\n",
      "release_year            8666 non-null int64\n",
      "budget_adj              8666 non-null float64\n",
      "revenue_adj             8666 non-null float64\n",
      "dtypes: datetime64[ns](1), float64(4), int64(5), object(6)\n",
      "memory usage: 1.1+ MB\n"
     ]
    }
   ],
   "source": [
    "#Step :-7 - Column data type Fixing \n",
    "###################################\n",
    "### release date should not be string .So i have fixed the datatype for release date as date type.\n",
    "df_mv['release_date'] =pd.to_datetime(df_mv['release_date'])\n",
    "df_mv.info()"
   ]
  },
  {
   "cell_type": "code",
   "execution_count": 72,
   "metadata": {},
   "outputs": [
    {
     "data": {
      "text/plain": [
       "(8666, 16)"
      ]
     },
     "execution_count": 72,
     "metadata": {},
     "output_type": "execute_result"
    }
   ],
   "source": [
    "###--To find the rows count and column count after cleaning the data.\n",
    "df_mv.shape"
   ]
  },
  {
   "cell_type": "code",
   "execution_count": 73,
   "metadata": {},
   "outputs": [
    {
     "data": {
      "text/html": [
       "<div>\n",
       "<style>\n",
       "    .dataframe thead tr:only-child th {\n",
       "        text-align: right;\n",
       "    }\n",
       "\n",
       "    .dataframe thead th {\n",
       "        text-align: left;\n",
       "    }\n",
       "\n",
       "    .dataframe tbody tr th {\n",
       "        vertical-align: top;\n",
       "    }\n",
       "</style>\n",
       "<table border=\"1\" class=\"dataframe\">\n",
       "  <thead>\n",
       "    <tr style=\"text-align: right;\">\n",
       "      <th></th>\n",
       "      <th>popularity</th>\n",
       "      <th>budget</th>\n",
       "      <th>revenue</th>\n",
       "      <th>original_title</th>\n",
       "      <th>cast</th>\n",
       "      <th>director</th>\n",
       "      <th>properties</th>\n",
       "      <th>runtime</th>\n",
       "      <th>genres</th>\n",
       "      <th>production_companies</th>\n",
       "      <th>release_date</th>\n",
       "      <th>vote_count</th>\n",
       "      <th>vote_average</th>\n",
       "      <th>release_year</th>\n",
       "      <th>budget_adj</th>\n",
       "      <th>revenue_adj</th>\n",
       "    </tr>\n",
       "  </thead>\n",
       "  <tbody>\n",
       "    <tr>\n",
       "      <th>0</th>\n",
       "      <td>32.985763</td>\n",
       "      <td>150000000</td>\n",
       "      <td>1513528810</td>\n",
       "      <td>Jurassic World</td>\n",
       "      <td>Chris Pratt and Bryce Dallas Howard and Irrfan...</td>\n",
       "      <td>Colin Trevorrow</td>\n",
       "      <td>monster dna tyrannosaurus rex velociraptor island</td>\n",
       "      <td>124</td>\n",
       "      <td>Action Adventure Science Fiction Thriller</td>\n",
       "      <td>Universal Studios and Amblin Entertainment and...</td>\n",
       "      <td>2015-06-09</td>\n",
       "      <td>5562</td>\n",
       "      <td>6.5</td>\n",
       "      <td>2015</td>\n",
       "      <td>1.379999e+08</td>\n",
       "      <td>1.392446e+09</td>\n",
       "    </tr>\n",
       "    <tr>\n",
       "      <th>1</th>\n",
       "      <td>28.419936</td>\n",
       "      <td>150000000</td>\n",
       "      <td>378436354</td>\n",
       "      <td>Mad Max: Fury Road</td>\n",
       "      <td>Tom Hardy and Charlize Theron and Hugh Keays-B...</td>\n",
       "      <td>George Miller</td>\n",
       "      <td>future chase post-apocalyptic dystopia australia</td>\n",
       "      <td>120</td>\n",
       "      <td>Action Adventure Science Fiction Thriller</td>\n",
       "      <td>Village Roadshow Pictures and Kennedy Miller P...</td>\n",
       "      <td>2015-05-13</td>\n",
       "      <td>6185</td>\n",
       "      <td>7.1</td>\n",
       "      <td>2015</td>\n",
       "      <td>1.379999e+08</td>\n",
       "      <td>3.481613e+08</td>\n",
       "    </tr>\n",
       "    <tr>\n",
       "      <th>2</th>\n",
       "      <td>13.112507</td>\n",
       "      <td>110000000</td>\n",
       "      <td>295238201</td>\n",
       "      <td>Insurgent</td>\n",
       "      <td>Shailene Woodley and Theo James and Kate Winsl...</td>\n",
       "      <td>Robert Schwentke</td>\n",
       "      <td>based on novel revolution dystopia sequel dyst...</td>\n",
       "      <td>119</td>\n",
       "      <td>Adventure Science Fiction Thriller</td>\n",
       "      <td>Summit Entertainment and Mandeville Films and ...</td>\n",
       "      <td>2015-03-18</td>\n",
       "      <td>2480</td>\n",
       "      <td>6.3</td>\n",
       "      <td>2015</td>\n",
       "      <td>1.012000e+08</td>\n",
       "      <td>2.716190e+08</td>\n",
       "    </tr>\n",
       "    <tr>\n",
       "      <th>3</th>\n",
       "      <td>11.173104</td>\n",
       "      <td>200000000</td>\n",
       "      <td>2068178225</td>\n",
       "      <td>Star Wars: The Force Awakens</td>\n",
       "      <td>Harrison Ford and Mark Hamill and Carrie Fishe...</td>\n",
       "      <td>J.J. Abrams</td>\n",
       "      <td>android spaceship jedi space opera 3d</td>\n",
       "      <td>136</td>\n",
       "      <td>Action Adventure Science Fiction Fantasy</td>\n",
       "      <td>Lucasfilm and Truenorth Productions and Bad Robot</td>\n",
       "      <td>2015-12-15</td>\n",
       "      <td>5292</td>\n",
       "      <td>7.5</td>\n",
       "      <td>2015</td>\n",
       "      <td>1.839999e+08</td>\n",
       "      <td>1.902723e+09</td>\n",
       "    </tr>\n",
       "    <tr>\n",
       "      <th>4</th>\n",
       "      <td>9.335014</td>\n",
       "      <td>190000000</td>\n",
       "      <td>1506249360</td>\n",
       "      <td>Furious 7</td>\n",
       "      <td>Vin Diesel and Paul Walker and Jason Statham a...</td>\n",
       "      <td>James Wan</td>\n",
       "      <td>car race speed revenge suspense car</td>\n",
       "      <td>137</td>\n",
       "      <td>Action Crime Thriller</td>\n",
       "      <td>Universal Pictures and Original Film and Media...</td>\n",
       "      <td>2015-04-01</td>\n",
       "      <td>2947</td>\n",
       "      <td>7.3</td>\n",
       "      <td>2015</td>\n",
       "      <td>1.747999e+08</td>\n",
       "      <td>1.385749e+09</td>\n",
       "    </tr>\n",
       "  </tbody>\n",
       "</table>\n",
       "</div>"
      ],
      "text/plain": [
       "   popularity     budget     revenue                original_title  \\\n",
       "0   32.985763  150000000  1513528810                Jurassic World   \n",
       "1   28.419936  150000000   378436354            Mad Max: Fury Road   \n",
       "2   13.112507  110000000   295238201                     Insurgent   \n",
       "3   11.173104  200000000  2068178225  Star Wars: The Force Awakens   \n",
       "4    9.335014  190000000  1506249360                     Furious 7   \n",
       "\n",
       "                                                cast          director  \\\n",
       "0  Chris Pratt and Bryce Dallas Howard and Irrfan...   Colin Trevorrow   \n",
       "1  Tom Hardy and Charlize Theron and Hugh Keays-B...     George Miller   \n",
       "2  Shailene Woodley and Theo James and Kate Winsl...  Robert Schwentke   \n",
       "3  Harrison Ford and Mark Hamill and Carrie Fishe...       J.J. Abrams   \n",
       "4  Vin Diesel and Paul Walker and Jason Statham a...         James Wan   \n",
       "\n",
       "                                          properties  runtime  \\\n",
       "0  monster dna tyrannosaurus rex velociraptor island      124   \n",
       "1   future chase post-apocalyptic dystopia australia      120   \n",
       "2  based on novel revolution dystopia sequel dyst...      119   \n",
       "3              android spaceship jedi space opera 3d      136   \n",
       "4                car race speed revenge suspense car      137   \n",
       "\n",
       "                                      genres  \\\n",
       "0  Action Adventure Science Fiction Thriller   \n",
       "1  Action Adventure Science Fiction Thriller   \n",
       "2         Adventure Science Fiction Thriller   \n",
       "3   Action Adventure Science Fiction Fantasy   \n",
       "4                      Action Crime Thriller   \n",
       "\n",
       "                                production_companies release_date  vote_count  \\\n",
       "0  Universal Studios and Amblin Entertainment and...   2015-06-09        5562   \n",
       "1  Village Roadshow Pictures and Kennedy Miller P...   2015-05-13        6185   \n",
       "2  Summit Entertainment and Mandeville Films and ...   2015-03-18        2480   \n",
       "3  Lucasfilm and Truenorth Productions and Bad Robot   2015-12-15        5292   \n",
       "4  Universal Pictures and Original Film and Media...   2015-04-01        2947   \n",
       "\n",
       "   vote_average  release_year    budget_adj   revenue_adj  \n",
       "0           6.5          2015  1.379999e+08  1.392446e+09  \n",
       "1           7.1          2015  1.379999e+08  3.481613e+08  \n",
       "2           6.3          2015  1.012000e+08  2.716190e+08  \n",
       "3           7.5          2015  1.839999e+08  1.902723e+09  \n",
       "4           7.3          2015  1.747999e+08  1.385749e+09  "
      ]
     },
     "execution_count": 73,
     "metadata": {},
     "output_type": "execute_result"
    }
   ],
   "source": [
    "###--To see the sample data after cleaning the data.\n",
    "df_mv.head()"
   ]
  },
  {
   "cell_type": "markdown",
   "metadata": {},
   "source": [
    "## Communication :\n",
    ">> I am going to analyse and visulize my movie data for the Year [1991-2000] .So it should be repetive code and used for more analysis work.\n",
    "\n",
    "## Analysis decision:\n",
    ">> So i have created a function to aviod this repetative Code.\n",
    "    "
   ]
  },
  {
   "cell_type": "code",
   "execution_count": 74,
   "metadata": {},
   "outputs": [
    {
     "data": {
      "text/plain": [
       "array([1999, 1994, 1997, 1995, 1992, 1996, 2000, 1998, 1991, 1993])"
      ]
     },
     "execution_count": 74,
     "metadata": {},
     "output_type": "execute_result"
    }
   ],
   "source": [
    "##function is created to avoid the repeated code to analyse my movie data for the Year [1991-2000].\n",
    "def df_mv_year_filter(from_year, to_year):\n",
    "    df_mv_1991_2000 = df_mv.query('release_year >%s and release_year <=%s'%(from_year, to_year));\n",
    "    return(df_mv_1991_2000)\n",
    "## --To call the function to check whether it will return the right results.\n",
    "df_mv_year_filter(1990,2000).release_year.unique()"
   ]
  },
  {
   "cell_type": "markdown",
   "metadata": {},
   "source": [
    "## Communication :\n",
    ">> To draw a entire column statistical summary from my dataframe.\n",
    "\n",
    "## Analysis decision:\n",
    ">> So i have used Histogram diagram to see all my columns statistical summary.\n",
    "    "
   ]
  },
  {
   "cell_type": "code",
   "execution_count": 75,
   "metadata": {},
   "outputs": [
    {
     "data": {
      "text/plain": [
       "array([[<matplotlib.axes._subplots.AxesSubplot object at 0x7f6606657828>,\n",
       "        <matplotlib.axes._subplots.AxesSubplot object at 0x7f6606340668>,\n",
       "        <matplotlib.axes._subplots.AxesSubplot object at 0x7f66062f8748>],\n",
       "       [<matplotlib.axes._subplots.AxesSubplot object at 0x7f66062b2748>,\n",
       "        <matplotlib.axes._subplots.AxesSubplot object at 0x7f6606284710>,\n",
       "        <matplotlib.axes._subplots.AxesSubplot object at 0x7f66062848d0>],\n",
       "       [<matplotlib.axes._subplots.AxesSubplot object at 0x7f66061d8240>,\n",
       "        <matplotlib.axes._subplots.AxesSubplot object at 0x7f660618e240>,\n",
       "        <matplotlib.axes._subplots.AxesSubplot object at 0x7f660614a780>]], dtype=object)"
      ]
     },
     "execution_count": 75,
     "metadata": {},
     "output_type": "execute_result"
    },
    {
     "data": {
      "image/png": "[encoded data removed]",
      "text/plain": [
       "<matplotlib.figure.Figure at 0x7f66068db080>"
      ]
     },
     "metadata": {
      "needs_background": "light"
     },
     "output_type": "display_data"
    }
   ],
   "source": [
    "##- To draw a histogram to get the statistics of each column data.\n",
    "df_mv_year_filter(1991,2000).hist(figsize=(10,8))"
   ]
  },
  {
   "cell_type": "markdown",
   "metadata": {},
   "source": [
    "## Communication :\n",
    ">> ##- To draw a visualizaton to see the budget & Revenue trend for ther year [1991-2000]\n",
    "\n",
    "## Plot decision:\n",
    ">> first i bring that 10 years data and draw a 1D histogram diagaram to find my results. "
   ]
  },
  {
   "cell_type": "code",
   "execution_count": 76,
   "metadata": {},
   "outputs": [
    {
     "data": {
      "image/png": "[encoded data removed]",
      "text/plain": [
       "<matplotlib.figure.Figure at 0x7f660a58d898>"
      ]
     },
     "metadata": {
      "needs_background": "light"
     },
     "output_type": "display_data"
    }
   ],
   "source": [
    "\n",
    "df_mv_year_flt=df_mv_year_filter(1991,2000)\n",
    "df_mv_year_flt[\"budget\"].hist(alpha=0.5 ,label='Budget',color='green')\n",
    "df_mv_year_flt[\"revenue\"].hist(alpha=0.5 ,label='Revenue',color='red')\n",
    "plt.legend();\n"
   ]
  },
  {
   "cell_type": "markdown",
   "metadata": {},
   "source": [
    "## Result :\n",
    ">> Revenue is high for most of the movies in thid TMDB data."
   ]
  },
  {
   "cell_type": "markdown",
   "metadata": {},
   "source": [
    "<a id='eda'></a>\n",
    "## Exploratory My TMDB data file Analysis\n",
    "\n",
    "\n",
    "### Research Question 1 (Which genres are most popular in 2000 year? )\n",
    "\n",
    "### Communication :\n",
    ">> For this Question first i have selected only 2000 Years Movie data to get the most popular genres on this year.\n",
    "   I have fetched only few columns for my data analyis and assigned into df_sel_col data frame.\n",
    "\n",
    "## Plot decision:\n",
    "\n",
    ">> I have choosen Barh plot to visual my analyse data.\n",
    "   I have used xlabel ='Ratings' and ylabel ='genres Name'\n",
    "   \n",
    "   "
   ]
  },
  {
   "cell_type": "code",
   "execution_count": 77,
   "metadata": {},
   "outputs": [
    {
     "data": {
      "text/html": [
       "<div>\n",
       "<style>\n",
       "    .dataframe thead tr:only-child th {\n",
       "        text-align: right;\n",
       "    }\n",
       "\n",
       "    .dataframe thead th {\n",
       "        text-align: left;\n",
       "    }\n",
       "\n",
       "    .dataframe tbody tr th {\n",
       "        vertical-align: top;\n",
       "    }\n",
       "</style>\n",
       "<table border=\"1\" class=\"dataframe\">\n",
       "  <thead>\n",
       "    <tr style=\"text-align: right;\">\n",
       "      <th></th>\n",
       "      <th>genres</th>\n",
       "      <th>popularity</th>\n",
       "    </tr>\n",
       "  </thead>\n",
       "  <tbody>\n",
       "    <tr>\n",
       "      <th>8661</th>\n",
       "      <td>Action Drama Adventure</td>\n",
       "      <td>4.271452</td>\n",
       "    </tr>\n",
       "    <tr>\n",
       "      <th>8662</th>\n",
       "      <td>Mystery Thriller</td>\n",
       "      <td>3.095625</td>\n",
       "    </tr>\n",
       "    <tr>\n",
       "      <th>8663</th>\n",
       "      <td>Family Comedy Fantasy</td>\n",
       "      <td>2.977558</td>\n",
       "    </tr>\n",
       "    <tr>\n",
       "      <th>8664</th>\n",
       "      <td>Adventure Drama</td>\n",
       "      <td>2.197205</td>\n",
       "    </tr>\n",
       "    <tr>\n",
       "      <th>8665</th>\n",
       "      <td>Thriller Crime</td>\n",
       "      <td>2.153361</td>\n",
       "    </tr>\n",
       "    <tr>\n",
       "      <th>8666</th>\n",
       "      <td>Adventure Action Thriller</td>\n",
       "      <td>1.956406</td>\n",
       "    </tr>\n",
       "    <tr>\n",
       "      <th>8667</th>\n",
       "      <td>Fantasy Comedy Romance</td>\n",
       "      <td>1.889388</td>\n",
       "    </tr>\n",
       "    <tr>\n",
       "      <th>8668</th>\n",
       "      <td>Comedy</td>\n",
       "      <td>1.815244</td>\n",
       "    </tr>\n",
       "    <tr>\n",
       "      <th>8669</th>\n",
       "      <td>Adventure Animation Comedy Family Fantasy</td>\n",
       "      <td>1.768463</td>\n",
       "    </tr>\n",
       "    <tr>\n",
       "      <th>8670</th>\n",
       "      <td>Comedy Romance</td>\n",
       "      <td>1.767681</td>\n",
       "    </tr>\n",
       "  </tbody>\n",
       "</table>\n",
       "</div>"
      ],
      "text/plain": [
       "                                         genres  popularity\n",
       "8661                     Action Drama Adventure    4.271452\n",
       "8662                           Mystery Thriller    3.095625\n",
       "8663                      Family Comedy Fantasy    2.977558\n",
       "8664                            Adventure Drama    2.197205\n",
       "8665                             Thriller Crime    2.153361\n",
       "8666                  Adventure Action Thriller    1.956406\n",
       "8667                     Fantasy Comedy Romance    1.889388\n",
       "8668                                     Comedy    1.815244\n",
       "8669  Adventure Animation Comedy Family Fantasy    1.768463\n",
       "8670                             Comedy Romance    1.767681"
      ]
     },
     "execution_count": 77,
     "metadata": {},
     "output_type": "execute_result"
    }
   ],
   "source": [
    "\n",
    "df_mv_2000 =df_mv.query('release_year==2000')\n",
    "\n",
    "df_sel_col =df_mv_2000.loc[:,['genres','popularity']]\n",
    "\n",
    "##To get the most popularity for this 2000 Year.\n",
    "df_sel_col.groupby(['genres']).popularity.max()\n",
    "\n",
    "df_sel_col.head(10)\n",
    "\n"
   ]
  },
  {
   "cell_type": "code",
   "execution_count": 78,
   "metadata": {},
   "outputs": [
    {
     "name": "stderr",
     "output_type": "stream",
     "text": [
      "/opt/conda/lib/python3.6/site-packages/ipykernel_launcher.py:3: SettingWithCopyWarning: \n",
      "A value is trying to be set on a copy of a slice from a DataFrame\n",
      "\n",
      "See the caveats in the documentation: http://pandas.pydata.org/pandas-docs/stable/indexing.html#indexing-view-versus-copy\n",
      "  This is separate from the ipykernel package so we can avoid doing imports until\n"
     ]
    },
    {
     "data": {
      "image/png": "[encoded data removed]",
      "text/plain": [
       "<matplotlib.figure.Figure at 0x7f6609d4c278>"
      ]
     },
     "metadata": {
      "needs_background": "light"
     },
     "output_type": "display_data"
    }
   ],
   "source": [
    "## i am sorting the release year values to view my visulization in a proper order.\n",
    "df_sel_rows =df_sel_col.head(10)\n",
    "df_sel_rows.sort_values(['popularity'], ascending=False,inplace=True)\n",
    "\n",
    "## Drawing steps as below\n",
    "plt.subplots(figsize=(8, 5))\n",
    "plt.barh(df_sel_rows.genres, df_sel_rows.popularity)\n",
    "plt.title('Top 10 Most Popular genres in 2000')\n",
    "plt.xlabel('Ratings')\n",
    "plt.ylabel('genres Name');\n",
    "plt.legend()\n",
    "plt.grid(True)\n",
    "plt.show()\n",
    "\n",
    "\n"
   ]
  },
  {
   "cell_type": "markdown",
   "metadata": {},
   "source": [
    "### Research Question 2 (What kinds of properties are associated with movies that have high revenues? )\n",
    "\n",
    "### Communication :\n",
    ">> For this Qustions ,I have choosen properties columns as is one of the properties on every Movies.\n",
    "   To do this , I will fetch Top 10 highest revenues from each properties and get the highest revenue from each properties.\n",
    "\n",
    "## Plot decision:\n",
    "\n",
    ">> I have choosen Barh plot to visual my analyse data.\n",
    "   I have used xlabel ='revenue' and ylabel ='properties'\n",
    "   "
   ]
  },
  {
   "cell_type": "code",
   "execution_count": 79,
   "metadata": {},
   "outputs": [
    {
     "data": {
      "text/plain": [
       "<matplotlib.axes._subplots.AxesSubplot at 0x7f6606075cc0>"
      ]
     },
     "execution_count": 79,
     "metadata": {},
     "output_type": "execute_result"
    },
    {
     "data": {
      "image/png": "[encoded data removed]",
      "text/plain": [
       "<matplotlib.figure.Figure at 0x7f66067e7a58>"
      ]
     },
     "metadata": {
      "needs_background": "light"
     },
     "output_type": "display_data"
    }
   ],
   "source": [
    "\n",
    "rev_max=df_mv.groupby(['properties']).revenue.max()\n",
    "df_rev_max=pd.DataFrame(rev_max)\n",
    "\n",
    "##-- Sorting revenue columns to get the Top highest revenue order from each properties\n",
    "df_rev_max.sort_values(['revenue'], ascending=False,inplace=True)\n",
    "\n",
    "##-- Fetch only 10 rows to show the top 10 highest revenue from each properties.\n",
    "df_rev_max.head(10).plot(kind='barh',grid=True)"
   ]
  },
  {
   "cell_type": "markdown",
   "metadata": {},
   "source": [
    "### Research Question 3 (What are the top 10 genres with highest average run time? )\n",
    "\n",
    "### Communication :\n",
    ">> ##--For this question ,i will get the average runtime from each genres and short the runtime with ascending order to get the highest revenue.\n",
    "\n",
    "## Plot decision:\n",
    "\n",
    ">> I have choosen Bar plot to visual my analyse data.\n",
    "   I have used xlabel ='genres' and ylabel ='runtime'"
   ]
  },
  {
   "cell_type": "code",
   "execution_count": 80,
   "metadata": {
    "scrolled": true
   },
   "outputs": [
    {
     "data": {
      "text/plain": [
       "<matplotlib.axes._subplots.AxesSubplot at 0x7f660676aac8>"
      ]
     },
     "execution_count": 80,
     "metadata": {},
     "output_type": "execute_result"
    },
    {
     "data": {
      "image/png": "[encoded data removed]",
      "text/plain": [
       "<matplotlib.figure.Figure at 0x7f660682fb70>"
      ]
     },
     "metadata": {
      "needs_background": "light"
     },
     "output_type": "display_data"
    }
   ],
   "source": [
    "\n",
    "avg_mv =df_mv.groupby(['genres']).runtime.mean()\n",
    "df_avg_mv=pd.DataFrame(avg_mv)\n",
    "\n",
    "##--Sorting with descending order to get the top 10 average highest run time \n",
    "df_avg_mv.sort_values(['runtime'], ascending=False,inplace=True)\n",
    "##- selecting the 10 rows from the data frame and draw it as below.\n",
    "df_avg_mv.head(10).plot(kind='bar',grid=True)"
   ]
  },
  {
   "cell_type": "markdown",
   "metadata": {},
   "source": [
    "### Research Question 4 (Display highest profitable and highest loss movies )\n",
    "\n",
    "### Communication :\n",
    ">> ##--in order to get the profitable for each movies , I will do minus[revenue_adj and budget_adj].I will add one new columns like \"profit\" into Df_MV data frame to show the profit.\n",
    "\n",
    "## Plot decision:\n",
    "\n",
    ">> I have choosen Bar plot to visual my analyse data with subplot option.\n",
    "   I have used xlabel ='Movie Name' and ylabel ='profit'"
   ]
  },
  {
   "cell_type": "code",
   "execution_count": 81,
   "metadata": {},
   "outputs": [
    {
     "data": {
      "image/png": "[encoded data removed]",
      "text/plain": [
       "<matplotlib.figure.Figure at 0x7f6606826a90>"
      ]
     },
     "metadata": {
      "needs_background": "light"
     },
     "output_type": "display_data"
    }
   ],
   "source": [
    "\n",
    "df_mv[\"profit\"] =  df_mv[\"revenue_adj\"]- df_mv[\"budget_adj\"]  \n",
    "\n",
    "#get the maximum profit \n",
    "pr_max=df_mv.profit.max()\n",
    "#get the highest loss   \n",
    "pr_min=df_mv.profit.min()\n",
    "\n",
    "#To filter the highest profit and highest loss from df_mv dataframe.\n",
    "df_pr_max_min=df_mv[df_mv[\"profit\"].isin([pr_max,pr_min])]\n",
    "\n",
    "# To draw the bar chart as below \n",
    "\n",
    "plt.subplots(figsize=(8, 5))\n",
    "plt.bar(df_pr_max_min.original_title, df_pr_max_min.profit)\n",
    "plt.title('Highest Profit and Highest Loss Movies')\n",
    "plt.xlabel('Movie Name')\n",
    "plt.ylabel('profit');\n",
    "plt.ylim=(0, 100)\n",
    "plt.legend()\n",
    "plt.show()\n",
    "\n",
    "\n"
   ]
  },
  {
   "cell_type": "markdown",
   "metadata": {},
   "source": [
    "### Research Question 5  (Movies release trend in each Year from 1991 to 2000)\n",
    "\n",
    "### Communication :\n",
    ">> For this question , i will fetch the 10 years movies data from df_mv data frame. i have called the function to aviod the repeative code. i get the movies count from each year .i will find the movie release by using plot. \n",
    "\n",
    "## Plot decision:\n",
    "\n",
    ">> I have choosen Line chart to visual my analyse data with subplot option.\n",
    "   I have used xlabel ='Year' and ylabel ='Movies Count'"
   ]
  },
  {
   "cell_type": "code",
   "execution_count": 82,
   "metadata": {},
   "outputs": [
    {
     "data": {
      "image/png": "[encoded data removed]",
      "text/plain": [
       "<matplotlib.figure.Figure at 0x7f6609d05978>"
      ]
     },
     "metadata": {
      "needs_background": "light"
     },
     "output_type": "display_data"
    }
   ],
   "source": [
    "\n",
    "df_90_20 =df_mv_year_filter(1990,2000)\n",
    "\n",
    "# To get the Unique year from the filtered one.\n",
    "rel_Year=df_90_20.release_year.unique()\n",
    "\n",
    "#To get the movies count from each Year.\n",
    "Mov_count=df_90_20.groupby([\"release_year\"]).original_title.count()\n",
    "\n",
    "# To draw the line chart as below .\n",
    "plt.subplots(figsize=(8, 5))\n",
    "plt.plot(Mov_count.index, Mov_count,color='Green', marker='o', linewidth=3,label=\"Movies Relase Trend\")\n",
    "plt.title('Movies Release Trend from 1990 to 2000')\n",
    "plt.xlabel('Year')\n",
    "plt.ylabel('Movies Count');\n",
    "plt.legend()\n",
    "plt.grid(True)\n",
    "plt.show()\n"
   ]
  },
  {
   "cell_type": "markdown",
   "metadata": {},
   "source": [
    "### Research Question 6 (What are the highest and lowest rated Movies? )\n",
    "\n",
    "### Communication :\n",
    ">> To get the highest and lowest rated by using Vote_average Column and filter only on highest and lowest rated movies from the Df_mv dataframe.\n",
    "\n",
    "## Plot decision:\n",
    "\n",
    ">> I have choosen Bar chart to visual my analyse data with subplot option.\n",
    "   I have used xlabel ='Movie Name' and ylabel ='Voting Average'"
   ]
  },
  {
   "cell_type": "code",
   "execution_count": 83,
   "metadata": {},
   "outputs": [
    {
     "data": {
      "image/png": "[encoded data removed]",
      "text/plain": [
       "<matplotlib.figure.Figure at 0x7f66067b77b8>"
      ]
     },
     "metadata": {
      "needs_background": "light"
     },
     "output_type": "display_data"
    }
   ],
   "source": [
    "##To get the highest and lowest rated by using Vote_average Column\n",
    "vote_max=df_mv.vote_average.max()\n",
    "vote_min=df_mv.vote_average.min()\n",
    "\n",
    "## To filte only on highest and lowest rated movies from the Df_mv data frame.\n",
    "df_vote_max_min=df_mv[df_mv[\"vote_average\"].isin([vote_max,vote_min])]\n",
    "\n",
    "##To draw a bar chart as below .\n",
    "plt.subplots(figsize=(8, 5))\n",
    "plt.bar(df_vote_max_min.original_title, df_vote_max_min.vote_average)\n",
    "plt.title('Highest and Lowest rated Movies')\n",
    "plt.xlabel('Movie Name')\n",
    "plt.ylabel('Voting Average');\n",
    "plt.legend()\n",
    "plt.show()\n",
    "\n",
    "\n",
    "\n"
   ]
  },
  {
   "cell_type": "markdown",
   "metadata": {},
   "source": [
    "<a id='conclusions'></a>\n",
    "## Conclusions\n",
    "----------------------\n",
    "\n",
    " **MY Findings**: \n",
    "    I have successfully completed my data anlysis on my TMDB data. My Overall Qustions and finding as below.\n",
    "    \n",
    "    ## Question 1 :Which genres are most popular in 2000 year? \n",
    "     Result :-   \"Action Drama Adventure\" genres is the Top most popular in 2000 Year.\n",
    "\n",
    "   ## Question 2 :Which genres are most popular in 2000 year? \n",
    "     Result :-   \"Action Drama Adventure\" genres is the Top most popular in 2000 Year.\n",
    "     \n",
    "   ## Question 3 (What are the top 10 genres with highest average run time?\n",
    "     Result :- \"war Drama Action Adventure History\" genres is the highest runtime as per stats.\n",
    "\n",
    "   ## Question 4 (Display highest profitable and highest loss movies )\n",
    "    Result :- \n",
    "    \n",
    "      \"Star wars\" Movies\" is the highest profitable Movie\n",
    "      \"The warrior's way\" is getting moreloss on this Movie \n",
    "  ## Question 5  (Movies release trend in each Year from 1991 to 2000)\n",
    "     Result :-  The highest movies relesed on 1999 . As per trends movies release count increased over the Year\n",
    "     \n",
    " ## Question 7 (What are the highest and lowest rated Movies? )\n",
    "   Result :- \n",
    "         \"The Hands of Fate\" and \"Transmorpher\" is the lowest rated Movies.\n",
    "         \"pink Floyd:pulse -higest\" is the most highest rated Movies. \n",
    "\n",
    "   \n",
    "## limitations:\n",
    "\n",
    ">  #Step :-2.1 - This step is very important steps like finding my null values columns from the bar chart visulizaton .There are four columns like cast,directors ,keywords, genres,production_companies has an null values which may lead getting an wrong prediction  on my statstics visualation. I have cleaned it the hinders null values to avoid the wrong prediction.\n",
    "\n",
    "\n",
    ">Example Code :-\n",
    "df_mv.isnull().sum().plot(kind='bar',grid=True,label ='Null values Count')\n",
    "plt.legend()\n",
    "\n",
    "> Since we have more than 30 Years Movie data available in this dataframe . I have selected only 10 Years data to explore on few of my data analysis."
   ]
  },
  {
   "cell_type": "code",
   "execution_count": 84,
   "metadata": {},
   "outputs": [
    {
     "data": {
      "text/plain": [
       "0"
      ]
     },
     "execution_count": 84,
     "metadata": {},
     "output_type": "execute_result"
    }
   ],
   "source": [
    "from subprocess import call\n",
    "call(['python', '-m', 'nbconvert', 'Investigate_a_Dataset.ipynb'])"
   ]
  },
  {
   "cell_type": "code",
   "execution_count": null,
   "metadata": {},
   "outputs": [],
   "source": []
  }
 ],
 "metadata": {
  "kernelspec": {
   "display_name": "Python 3",
   "language": "python",
   "name": "python3"
  },
  "language_info": {
   "codemirror_mode": {
    "name": "ipython",
    "version": 3
   },
   "file_extension": ".py",
   "mimetype": "text/x-python",
   "name": "python",
   "nbconvert_exporter": "python",
   "pygments_lexer": "ipython3",
   "version": "3.6.3"
  }
 },
 "nbformat": 4,
 "nbformat_minor": 2
}
